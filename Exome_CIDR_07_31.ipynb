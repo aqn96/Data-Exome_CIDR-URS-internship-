{
 "cells": [
  {
   "cell_type": "code",
   "execution_count": 3,
   "metadata": {},
   "outputs": [
    {
     "data": {
      "text/html": [
       "<div>\n",
       "<style scoped>\n",
       "    .dataframe tbody tr th:only-of-type {\n",
       "        vertical-align: middle;\n",
       "    }\n",
       "\n",
       "    .dataframe tbody tr th {\n",
       "        vertical-align: top;\n",
       "    }\n",
       "\n",
       "    .dataframe thead th {\n",
       "        text-align: right;\n",
       "    }\n",
       "</style>\n",
       "<table border=\"1\" class=\"dataframe\">\n",
       "  <thead>\n",
       "    <tr style=\"text-align: right;\">\n",
       "      <th></th>\n",
       "      <th>chrom</th>\n",
       "      <th>start</th>\n",
       "      <th>end</th>\n",
       "      <th>svtype</th>\n",
       "      <th>cn</th>\n",
       "      <th>nsnp</th>\n",
       "      <th>startsnp</th>\n",
       "      <th>endsnp</th>\n",
       "      <th>conf</th>\n",
       "      <th>iid</th>\n",
       "      <th>...</th>\n",
       "      <th>max_pli</th>\n",
       "      <th>REC_gene</th>\n",
       "      <th>max_REC</th>\n",
       "      <th>n_genes</th>\n",
       "      <th>genes</th>\n",
       "      <th>n_pli</th>\n",
       "      <th>pli</th>\n",
       "      <th>n_rec</th>\n",
       "      <th>rec</th>\n",
       "      <th>nsnp_less_than_7</th>\n",
       "    </tr>\n",
       "  </thead>\n",
       "  <tbody>\n",
       "    <tr>\n",
       "      <th>0</th>\n",
       "      <td>1</td>\n",
       "      <td>752721</td>\n",
       "      <td>1179816</td>\n",
       "      <td>DUP</td>\n",
       "      <td>3</td>\n",
       "      <td>248</td>\n",
       "      <td>rs3131972</td>\n",
       "      <td>exm2001</td>\n",
       "      <td>41.800375</td>\n",
       "      <td>WG3002051-DNAF06-P2097-S649_4340_6_1-1-0224061976</td>\n",
       "      <td>...</td>\n",
       "      <td>5.4727e-07</td>\n",
       "      <td>AGRN</td>\n",
       "      <td>1.0</td>\n",
       "      <td>14</td>\n",
       "      <td>AGRN,B3GALT6,C1orf159,HES4,ISG15,KLHL17,NOC2L,...</td>\n",
       "      <td>0</td>\n",
       "      <td>.</td>\n",
       "      <td>0</td>\n",
       "      <td>.</td>\n",
       "      <td>False</td>\n",
       "    </tr>\n",
       "    <tr>\n",
       "      <th>1</th>\n",
       "      <td>1</td>\n",
       "      <td>752721</td>\n",
       "      <td>5722405</td>\n",
       "      <td>DEL</td>\n",
       "      <td>1</td>\n",
       "      <td>1392</td>\n",
       "      <td>rs3131972</td>\n",
       "      <td>rs770721</td>\n",
       "      <td>555.092813</td>\n",
       "      <td>WG3002809-DNAC01-P2211-S649_5738_5_4-1-1163278483</td>\n",
       "      <td>...</td>\n",
       "      <td>0.99999</td>\n",
       "      <td>ACAP3</td>\n",
       "      <td>0.99998</td>\n",
       "      <td>67</td>\n",
       "      <td>ACAP3,ACTRT2,AGRN,AJAP1,ANKRD65,ARHGEF16,ATAD3...</td>\n",
       "      <td>8</td>\n",
       "      <td>AJAP1,GABRD,GNB1,PANK4,PRDM16,SKI,TP73,UBE2J2</td>\n",
       "      <td>0</td>\n",
       "      <td>.</td>\n",
       "      <td>False</td>\n",
       "    </tr>\n",
       "    <tr>\n",
       "      <th>2</th>\n",
       "      <td>1</td>\n",
       "      <td>752721</td>\n",
       "      <td>5722405</td>\n",
       "      <td>DEL</td>\n",
       "      <td>1</td>\n",
       "      <td>1485</td>\n",
       "      <td>rs3131972</td>\n",
       "      <td>rs770721</td>\n",
       "      <td>462.402625</td>\n",
       "      <td>WG3002809-DNAC02-P2211-S649_5738_5_5-1-1163278491</td>\n",
       "      <td>...</td>\n",
       "      <td>0.99999</td>\n",
       "      <td>ACAP3</td>\n",
       "      <td>0.99998</td>\n",
       "      <td>67</td>\n",
       "      <td>ACAP3,ACTRT2,AGRN,AJAP1,ANKRD65,ARHGEF16,ATAD3...</td>\n",
       "      <td>8</td>\n",
       "      <td>AJAP1,GABRD,GNB1,PANK4,PRDM16,SKI,TP73,UBE2J2</td>\n",
       "      <td>0</td>\n",
       "      <td>.</td>\n",
       "      <td>False</td>\n",
       "    </tr>\n",
       "    <tr>\n",
       "      <th>3</th>\n",
       "      <td>1</td>\n",
       "      <td>752721</td>\n",
       "      <td>846808</td>\n",
       "      <td>DEL</td>\n",
       "      <td>1</td>\n",
       "      <td>5</td>\n",
       "      <td>rs3131972</td>\n",
       "      <td>rs4475691</td>\n",
       "      <td>15.323000</td>\n",
       "      <td>WG3002055-DNAD03-P2097-S649_5035_5_2-1-0224134284</td>\n",
       "      <td>...</td>\n",
       "      <td>.</td>\n",
       "      <td>.</td>\n",
       "      <td>.</td>\n",
       "      <td>.</td>\n",
       "      <td>.</td>\n",
       "      <td>.</td>\n",
       "      <td>.</td>\n",
       "      <td>.</td>\n",
       "      <td>.</td>\n",
       "      <td>True</td>\n",
       "    </tr>\n",
       "    <tr>\n",
       "      <th>4</th>\n",
       "      <td>1</td>\n",
       "      <td>752721</td>\n",
       "      <td>846808</td>\n",
       "      <td>DUP</td>\n",
       "      <td>3</td>\n",
       "      <td>5</td>\n",
       "      <td>rs3131972</td>\n",
       "      <td>rs4475691</td>\n",
       "      <td>10.946000</td>\n",
       "      <td>WG3002054-DNAD02-P2097-S649_2757_4_1-1-0224134475</td>\n",
       "      <td>...</td>\n",
       "      <td>.</td>\n",
       "      <td>.</td>\n",
       "      <td>.</td>\n",
       "      <td>.</td>\n",
       "      <td>.</td>\n",
       "      <td>.</td>\n",
       "      <td>.</td>\n",
       "      <td>.</td>\n",
       "      <td>.</td>\n",
       "      <td>True</td>\n",
       "    </tr>\n",
       "  </tbody>\n",
       "</table>\n",
       "<p>5 rows × 23 columns</p>\n",
       "</div>"
      ],
      "text/plain": [
       "   chrom   start      end svtype  cn  nsnp   startsnp     endsnp        conf  \\\n",
       "0      1  752721  1179816    DUP   3   248  rs3131972    exm2001   41.800375   \n",
       "1      1  752721  5722405    DEL   1  1392  rs3131972   rs770721  555.092813   \n",
       "2      1  752721  5722405    DEL   1  1485  rs3131972   rs770721  462.402625   \n",
       "3      1  752721   846808    DEL   1     5  rs3131972  rs4475691   15.323000   \n",
       "4      1  752721   846808    DUP   3     5  rs3131972  rs4475691   10.946000   \n",
       "\n",
       "                                                 iid  ...     max_pli  \\\n",
       "0  WG3002051-DNAF06-P2097-S649_4340_6_1-1-0224061976  ...  5.4727e-07   \n",
       "1  WG3002809-DNAC01-P2211-S649_5738_5_4-1-1163278483  ...     0.99999   \n",
       "2  WG3002809-DNAC02-P2211-S649_5738_5_5-1-1163278491  ...     0.99999   \n",
       "3  WG3002055-DNAD03-P2097-S649_5035_5_2-1-0224134284  ...           .   \n",
       "4  WG3002054-DNAD02-P2097-S649_2757_4_1-1-0224134475  ...           .   \n",
       "\n",
       "   REC_gene  max_REC n_genes  \\\n",
       "0      AGRN      1.0      14   \n",
       "1     ACAP3  0.99998      67   \n",
       "2     ACAP3  0.99998      67   \n",
       "3         .        .       .   \n",
       "4         .        .       .   \n",
       "\n",
       "                                               genes n_pli  \\\n",
       "0  AGRN,B3GALT6,C1orf159,HES4,ISG15,KLHL17,NOC2L,...     0   \n",
       "1  ACAP3,ACTRT2,AGRN,AJAP1,ANKRD65,ARHGEF16,ATAD3...     8   \n",
       "2  ACAP3,ACTRT2,AGRN,AJAP1,ANKRD65,ARHGEF16,ATAD3...     8   \n",
       "3                                                  .     .   \n",
       "4                                                  .     .   \n",
       "\n",
       "                                             pli n_rec rec nsnp_less_than_7  \n",
       "0                                              .     0   .            False  \n",
       "1  AJAP1,GABRD,GNB1,PANK4,PRDM16,SKI,TP73,UBE2J2     0   .            False  \n",
       "2  AJAP1,GABRD,GNB1,PANK4,PRDM16,SKI,TP73,UBE2J2     0   .            False  \n",
       "3                                              .     .   .             True  \n",
       "4                                              .     .   .             True  \n",
       "\n",
       "[5 rows x 23 columns]"
      ]
     },
     "execution_count": 3,
     "metadata": {},
     "output_type": "execute_result"
    }
   ],
   "source": [
    "%matplotlib inline\n",
    "import numpy as np\n",
    "import pandas as pd\n",
    "import matplotlib.pyplot as plt\n",
    "import matplotlib.colors as colors\n",
    "import matplotlib.cm as cm\n",
    "import seaborn as sns\n",
    "import matplotlib.pyplot as plt\n",
    "import matplotlib.backends.backend_pdf\n",
    "\n",
    "#col_names = ['chrom','start','end','svtype','cn','nsnp','startsnp', 'endsnp', 'conf', 'iid','common_sv','mask_pass','pli_gene', 'max_pli', 'REC_gene', 'max_REC','n_genes', 'genes','n_pli' , 'pli','n_rec','rec','nsnp_less_than_7']\n",
    "\n",
    "# is there a reason why you re-defined the header?\n",
    "df = pd.read_csv(r'C:\\Users\\aqngu\\Desktop\\Gleeson_Lab\\Exome_Negative_CIDR\\Results\\cidr_2017_2018_stitched_nsnpfil_cnpflagged_maskpass_burden.tsv' , sep='\\t')# header=None, skiprows=1, names=col_names)\n",
    "df.head()"
   ]
  },
  {
   "cell_type": "code",
   "execution_count": 7,
   "metadata": {},
   "outputs": [
    {
     "name": "stdout",
     "output_type": "stream",
     "text": [
      "failed samples:  68\n"
     ]
    }
   ],
   "source": [
    "qc = pd.read_csv(r'C:\\Users\\aqngu\\Desktop\\Gleeson_Lab\\Exome_Negative_CIDR\\Results\\QC_table_stats_full_exomeneg_2017_2018.tsv',sep=\"\\t\")\n",
    "# get a unique list of samples that failed QC\n",
    "fail = set(qc.loc[qc['Qc_pass']==False]['iid'])\n",
    "print('failed samples: ',len(fail))"
   ]
  },
  {
   "cell_type": "code",
   "execution_count": 12,
   "metadata": {},
   "outputs": [
    {
     "name": "stdout",
     "output_type": "stream",
     "text": [
      "before filtering:  192309\n",
      "after filtering: 63232\n",
      "chrom                 int64\n",
      "start                 int64\n",
      "end                   int64\n",
      "svtype               object\n",
      "cn                    int64\n",
      "nsnp                  int64\n",
      "startsnp             object\n",
      "endsnp               object\n",
      "conf                float64\n",
      "iid                  object\n",
      "common_sv              bool\n",
      "mask_pass              bool\n",
      "pli_gene             object\n",
      "max_pli             float64\n",
      "REC_gene             object\n",
      "max_REC             float64\n",
      "n_genes               int32\n",
      "genes                object\n",
      "n_pli                 int32\n",
      "pli                  object\n",
      "n_rec                 int32\n",
      "rec                  object\n",
      "nsnp_less_than_7       bool\n",
      "dtype: object\n"
     ]
    },
    {
     "name": "stderr",
     "output_type": "stream",
     "text": [
      "C:\\Users\\aqngu\\Anaconda3\\lib\\site-packages\\ipykernel_launcher.py:27: SettingWithCopyWarning: \n",
      "A value is trying to be set on a copy of a slice from a DataFrame.\n",
      "Try using .loc[row_indexer,col_indexer] = value instead\n",
      "\n",
      "See the caveats in the documentation: http://pandas.pydata.org/pandas-docs/stable/indexing.html#indexing-view-versus-copy\n",
      "C:\\Users\\aqngu\\Anaconda3\\lib\\site-packages\\ipykernel_launcher.py:28: SettingWithCopyWarning: \n",
      "A value is trying to be set on a copy of a slice from a DataFrame.\n",
      "Try using .loc[row_indexer,col_indexer] = value instead\n",
      "\n",
      "See the caveats in the documentation: http://pandas.pydata.org/pandas-docs/stable/indexing.html#indexing-view-versus-copy\n",
      "C:\\Users\\aqngu\\Anaconda3\\lib\\site-packages\\ipykernel_launcher.py:29: SettingWithCopyWarning: \n",
      "A value is trying to be set on a copy of a slice from a DataFrame.\n",
      "Try using .loc[row_indexer,col_indexer] = value instead\n",
      "\n",
      "See the caveats in the documentation: http://pandas.pydata.org/pandas-docs/stable/indexing.html#indexing-view-versus-copy\n",
      "C:\\Users\\aqngu\\Anaconda3\\lib\\site-packages\\ipykernel_launcher.py:30: SettingWithCopyWarning: \n",
      "A value is trying to be set on a copy of a slice from a DataFrame.\n",
      "Try using .loc[row_indexer,col_indexer] = value instead\n",
      "\n",
      "See the caveats in the documentation: http://pandas.pydata.org/pandas-docs/stable/indexing.html#indexing-view-versus-copy\n",
      "C:\\Users\\aqngu\\Anaconda3\\lib\\site-packages\\ipykernel_launcher.py:31: SettingWithCopyWarning: \n",
      "A value is trying to be set on a copy of a slice from a DataFrame.\n",
      "Try using .loc[row_indexer,col_indexer] = value instead\n",
      "\n",
      "See the caveats in the documentation: http://pandas.pydata.org/pandas-docs/stable/indexing.html#indexing-view-versus-copy\n"
     ]
    }
   ],
   "source": [
    "'''\n",
    "True and False are of type Boolean \n",
    "https://problemsolvingwithpython.com/04-Data-Types-and-Variables/04.02-Boolean-Data-Type/\n",
    "'''\n",
    "\n",
    "#df5[\"mask_pass\"] = df5[\"mask_pass\"].astype(str)\n",
    "#df5[\"nsnp_less_than_7\"] = df5[\"nsnp_less_than_7\"].astype(str)\n",
    "#df6 = df5[(df5.nsnp_less_than_7 == 'False') & (df5.mask_pass == 'True')]\n",
    "\n",
    "# filter out noisy CNVs\n",
    "\n",
    "print('before filtering: ',len(df))\n",
    "df2 = df.loc[(\n",
    "    df['nsnp_less_than_7']==False) & \n",
    "    (df['mask_pass']==True) & \n",
    "    (df['common_sv']==False) &\n",
    "    (df['conf'] > 10) &\n",
    "    (df['n_genes']!='.') &\n",
    "    (df['svtype']=='DEL') &\n",
    "    (~df['iid'].isin(fail)) # ~ is a NOT \n",
    "]\n",
    "print('after filtering:',len(df2))\n",
    "\"\"\"\n",
    "cast the type back to int\n",
    "\"\"\"\n",
    "\n",
    "df2['n_genes']=df2['n_genes'].astype(int)\n",
    "df2['n_pli']=df2['n_pli'].astype(int)\n",
    "df2['n_rec']=df2['n_rec'].astype(int)\n",
    "df2['max_pli']=df2['max_pli'].astype(float)\n",
    "df2['max_REC']=df2['max_REC'].astype(float)\n",
    "print(df2.dtypes)\n"
   ]
  },
  {
   "cell_type": "code",
   "execution_count": null,
   "metadata": {},
   "outputs": [],
   "source": []
  },
  {
   "cell_type": "code",
   "execution_count": 16,
   "metadata": {},
   "outputs": [
    {
     "name": "stdout",
     "output_type": "stream",
     "text": [
      "deletion gene burden\n",
      "MIN:1    MAX:2393\n",
      "MEAN:94.77    MEDIAN:5.0\n",
      "IQR:2.0-43.25    SD:252.11\n",
      "\n",
      "deletion lengths\n",
      "MIN:6    MAX:16836504\n",
      "MEAN:34300.94    MEDIAN:5604.0\n",
      "IQR:1499.0-17431.0    SD:256725.75\n",
      "\n",
      "n del >10Mb: 4\n"
     ]
    },
    {
     "name": "stderr",
     "output_type": "stream",
     "text": [
      "C:\\Users\\aqngu\\Anaconda3\\lib\\site-packages\\ipykernel_launcher.py:57: UserWarning: Matplotlib is currently using module://ipykernel.pylab.backend_inline, which is a non-GUI backend, so cannot show the figure.\n",
      "C:\\Users\\aqngu\\Anaconda3\\lib\\site-packages\\ipykernel_launcher.py:66: UserWarning: Matplotlib is currently using module://ipykernel.pylab.backend_inline, which is a non-GUI backend, so cannot show the figure.\n",
      "C:\\Users\\aqngu\\Anaconda3\\lib\\site-packages\\ipykernel_launcher.py:88: UserWarning: Matplotlib is currently using module://ipykernel.pylab.backend_inline, which is a non-GUI backend, so cannot show the figure.\n"
     ]
    },
    {
     "data": {
      "text/plain": [
       "\"\\nok there are a ton of samples with a lot of gene burden, could be real or not. IDK i'm skeptical to be honest.\\nSo please continue and redo the plots using this an example. \\n\""
      ]
     },
     "execution_count": 16,
     "metadata": {},
     "output_type": "execute_result"
    },
    {
     "data": {
      "image/png": "[encoded data removed]",
      "text/plain": [
       "<Figure size 288x288 with 1 Axes>"
      ]
     },
     "metadata": {},
     "output_type": "display_data"
    },
    {
     "data": {
      "image/png": "[encoded data removed]",
      "text/plain": [
       "<Figure size 288x288 with 1 Axes>"
      ]
     },
     "metadata": {},
     "output_type": "display_data"
    },
    {
     "data": {
      "image/png": "[encoded data removed]",
      "text/plain": [
       "<Figure size 288x288 with 1 Axes>"
      ]
     },
     "metadata": {},
     "output_type": "display_data"
    }
   ],
   "source": [
    "\"\"\"\n",
    "You need to calculate the mean n_genes PER SAMPLE\n",
    "\n",
    "this is what I searched \"pandas sum column by value in another column\"\n",
    "first result: \n",
    "https://stackoverflow.com/questions/56360610/sum-column-based-on-another-column-in-pandas-dataframe\n",
    "\"\"\"\n",
    "\n",
    "def sumstats(x):\n",
    "    \"\"\"x is a list of values\"\"\"\n",
    "    mi = min(x)\n",
    "    ma = max(x)\n",
    "    mean = np.mean(x)\n",
    "    med = np.median(x)\n",
    "    q75, q25 = np.percentile(x, [75 ,25])\n",
    "    sd = np.std(x)\n",
    "    o = 'MIN:{mi}    MAX:{ma}\\nMEAN:{mean}    MEDIAN:{med}\\nIQR:{q25}-{q75}    SD:{sd}'.format(\n",
    "        mi=mi,ma=ma,\n",
    "        mean=np.round(mean,2),med=np.round(med,2),\n",
    "        q25=np.round(q25,2),q75=np.round(q75,2), sd=np.round(sd,2)\n",
    "    )\n",
    "    print(o)\n",
    "\n",
    "gene_burden = df2.groupby(by=[\"iid\"])[\"n_genes\"].sum()\n",
    "print('deletion gene burden')\n",
    "sumstats(gene_burden)\n",
    "\"\"\"\n",
    "there is something odd with 2k+ gene burden\n",
    "let's look at the lengths of the SVs to see if there are \n",
    "any super large (>10Mb) events\n",
    "\"\"\"\n",
    "print('\\ndeletion lengths')\n",
    "svlen = df2['end']-df2['start']\n",
    "sumstats(svlen)\n",
    "\"\"\"\n",
    "use list comprehension to print the number of dels\n",
    ">10Mb\n",
    "\"\"\"\n",
    "\n",
    "print('\\nn del >10Mb:', len([x for x in svlen if x > 1e7]))\n",
    "\"\"\"\n",
    "ok that's interesting, now lets look at a histogram of the del lengths \n",
    "before we look at the gene burden\n",
    "\"\"\"\n",
    "\n",
    "sns.set_style('whitegrid') # I like this for most plots because it aids with observation\n",
    "f, ax = plt.subplots(1,1,figsize=(4,4))\n",
    "\n",
    "# make the bins = 100 because it will show you percentile distribution (1-100)\n",
    "# for example bins=5 is a quintile distribution\n",
    "\n",
    "ax.hist(np.log10(svlen),bins=100)\n",
    "ax.set_title('Filtered DEL')\n",
    "ax.set_xlabel('log10(SV Length)') # always label your plots\n",
    "ax.set_ylabel('Frequency')\n",
    "f.tight_layout()\n",
    "f.show()\n",
    "\n",
    "\"\"\"ok now for the gene burden\"\"\"\n",
    "f, ax = plt.subplots(1,1,figsize=(4,4))\n",
    "ax.hist(gene_burden,bins=100)\n",
    "ax.set_title('Filtered DEL Gene Burden')\n",
    "ax.set_xlabel('# Genes / Sample') # always label your plots\n",
    "ax.set_ylabel('Frequency')\n",
    "f.tight_layout()\n",
    "f.show()\n",
    "\n",
    "\"\"\"ok that's interesting you have a long right tail which means you have many samples with a lot of burden\n",
    "this is expected if you look at the summary stats, The Mean and Median values are very different. When you \n",
    "have a mean that is much greater or lesser than your median, it means your data are likely skewed to the right/left\n",
    "\n",
    "so now let's look at the individual points like I mentioned in slack\n",
    "\"\"\"\n",
    "\n",
    "f, ax = plt.subplots(1,1,figsize=(4,4))\n",
    "#sns.boxplot(y=gene_burden,ax=ax)\n",
    "# box plot didn't look so good because the data are so skewed. \n",
    "sns.stripplot(\n",
    "    y=gene_burden,\n",
    "    ax=ax,\n",
    "    color='k', # black \n",
    "    alpha=0.2, #transparency \n",
    ")\n",
    "ax.set_title('Filtered DEL Gene Burden')\n",
    "ax.set_ylabel('# Genes / Sample') # always label your plots\n",
    "ax.set_xlabel('')\n",
    "f.tight_layout()\n",
    "f.show()\n",
    "\n",
    "\"\"\"\n",
    "ok there are a ton of samples with a lot of gene burden, could be real or not. IDK i'm skeptical to be honest.\n",
    "So please continue and redo the plots using this an example. \n",
    "\"\"\"\n",
    "\n",
    "#df7[\"n_genes\"] = df7[\"n_genes\"].astype(float)\n",
    "#df7['n_genes'].sum()\n",
    "#df7['n_genes'].mean()\n",
    "#df7['n_genes'].median()\n",
    "#df7['n_genes'].quantile(.25)\n",
    "#df7['n_genes'].min()\n",
    "#df7['n_genes'].max()"
   ]
  },
  {
   "cell_type": "code",
   "execution_count": 41,
   "metadata": {},
   "outputs": [
    {
     "name": "stdout",
     "output_type": "stream",
     "text": [
      "before filtering:  192309\n",
      "after filtering: 103\n",
      "chrom                 int64\n",
      "start                 int64\n",
      "end                   int64\n",
      "svtype               object\n",
      "cn                    int64\n",
      "nsnp                  int64\n",
      "startsnp             object\n",
      "endsnp               object\n",
      "conf                float64\n",
      "iid                  object\n",
      "common_sv              bool\n",
      "mask_pass              bool\n",
      "pli_gene             object\n",
      "max_pli             float64\n",
      "REC_gene             object\n",
      "max_REC             float64\n",
      "n_genes               int32\n",
      "genes                object\n",
      "n_pli                 int32\n",
      "pli                  object\n",
      "n_rec                 int32\n",
      "rec                  object\n",
      "nsnp_less_than_7       bool\n",
      "dtype: object\n"
     ]
    },
    {
     "name": "stderr",
     "output_type": "stream",
     "text": [
      "C:\\Users\\aqngu\\Anaconda3\\lib\\site-packages\\ipykernel_launcher.py:17: SettingWithCopyWarning: \n",
      "A value is trying to be set on a copy of a slice from a DataFrame.\n",
      "Try using .loc[row_indexer,col_indexer] = value instead\n",
      "\n",
      "See the caveats in the documentation: http://pandas.pydata.org/pandas-docs/stable/indexing.html#indexing-view-versus-copy\n",
      "C:\\Users\\aqngu\\Anaconda3\\lib\\site-packages\\ipykernel_launcher.py:18: SettingWithCopyWarning: \n",
      "A value is trying to be set on a copy of a slice from a DataFrame.\n",
      "Try using .loc[row_indexer,col_indexer] = value instead\n",
      "\n",
      "See the caveats in the documentation: http://pandas.pydata.org/pandas-docs/stable/indexing.html#indexing-view-versus-copy\n",
      "C:\\Users\\aqngu\\Anaconda3\\lib\\site-packages\\ipykernel_launcher.py:19: SettingWithCopyWarning: \n",
      "A value is trying to be set on a copy of a slice from a DataFrame.\n",
      "Try using .loc[row_indexer,col_indexer] = value instead\n",
      "\n",
      "See the caveats in the documentation: http://pandas.pydata.org/pandas-docs/stable/indexing.html#indexing-view-versus-copy\n",
      "C:\\Users\\aqngu\\Anaconda3\\lib\\site-packages\\ipykernel_launcher.py:20: SettingWithCopyWarning: \n",
      "A value is trying to be set on a copy of a slice from a DataFrame.\n",
      "Try using .loc[row_indexer,col_indexer] = value instead\n",
      "\n",
      "See the caveats in the documentation: http://pandas.pydata.org/pandas-docs/stable/indexing.html#indexing-view-versus-copy\n",
      "C:\\Users\\aqngu\\Anaconda3\\lib\\site-packages\\ipykernel_launcher.py:21: SettingWithCopyWarning: \n",
      "A value is trying to be set on a copy of a slice from a DataFrame.\n",
      "Try using .loc[row_indexer,col_indexer] = value instead\n",
      "\n",
      "See the caveats in the documentation: http://pandas.pydata.org/pandas-docs/stable/indexing.html#indexing-view-versus-copy\n"
     ]
    }
   ],
   "source": [
    "print('before filtering: ',len(df))\n",
    "df3 = df.loc[(\n",
    "    df['nsnp_less_than_7']==False) & \n",
    "    (df['mask_pass']==True) & \n",
    "    (df['common_sv']==False) &\n",
    "    (df['conf'] > 10) &\n",
    "    (df['n_genes']!='.') &\n",
    "    (df['svtype']=='DEL') &\n",
    "    (~df['iid'].isin(fail) & # ~ is a NOT \n",
    "     (df['cn'] == 0)) \n",
    "]\n",
    "print('after filtering:',len(df3))\n",
    "\"\"\"\n",
    "cast the type back to int\n",
    "\"\"\"\n",
    "\n",
    "df3['n_genes']=df3['n_genes'].astype(int)\n",
    "df3['n_pli']=df3['n_pli'].astype(int)\n",
    "df3['n_rec']=df3['n_rec'].astype(int)\n",
    "df3['max_pli']=df3['max_pli'].astype(float)\n",
    "df3['max_REC']=df3['max_REC'].astype(float)\n",
    "print(df3.dtypes)"
   ]
  },
  {
   "cell_type": "code",
   "execution_count": 61,
   "metadata": {},
   "outputs": [
    {
     "name": "stdout",
     "output_type": "stream",
     "text": [
      "deletion gene burden\n",
      "MIN:1    MAX:13\n",
      "MEAN:1.55    MEDIAN:1.0\n",
      "IQR:1.0-2.0    SD:1.51\n",
      "\n",
      "deletion lengths\n",
      "MIN:309    MAX:264378\n",
      "MEAN:15411.86    MEDIAN:2511.0\n",
      "IQR:495.0-8348.0    SD:34380.37\n",
      "\n",
      "n del >10Mb: 0\n"
     ]
    },
    {
     "name": "stderr",
     "output_type": "stream",
     "text": [
      "C:\\Users\\aqngu\\Anaconda3\\lib\\site-packages\\ipykernel_launcher.py:34: UserWarning: Matplotlib is currently using module://ipykernel.pylab.backend_inline, which is a non-GUI backend, so cannot show the figure.\n",
      "C:\\Users\\aqngu\\Anaconda3\\lib\\site-packages\\ipykernel_launcher.py:43: UserWarning: Matplotlib is currently using module://ipykernel.pylab.backend_inline, which is a non-GUI backend, so cannot show the figure.\n",
      "C:\\Users\\aqngu\\Anaconda3\\lib\\site-packages\\ipykernel_launcher.py:65: UserWarning: Matplotlib is currently using module://ipykernel.pylab.backend_inline, which is a non-GUI backend, so cannot show the figure.\n"
     ]
    },
    {
     "data": {
      "image/png": "[encoded data removed]",
      "text/plain": [
       "<Figure size 288x288 with 1 Axes>"
      ]
     },
     "metadata": {},
     "output_type": "display_data"
    },
    {
     "data": {
      "image/png": "[encoded data removed]",
      "text/plain": [
       "<Figure size 288x288 with 1 Axes>"
      ]
     },
     "metadata": {},
     "output_type": "display_data"
    },
    {
     "data": {
      "image/png": "[encoded data removed]",
      "text/plain": [
       "<Figure size 288x288 with 1 Axes>"
      ]
     },
     "metadata": {},
     "output_type": "display_data"
    }
   ],
   "source": [
    "gene_burden2 = df3.groupby(by=[\"iid\"])[\"n_genes\"].sum()\n",
    "print('deletion gene burden')\n",
    "sumstats(gene_burden2)\n",
    "\"\"\"\n",
    "there is something odd with 2k+ gene burden\n",
    "let's look at the lengths of the SVs to see if there are \n",
    "any super large (>10Mb) events\n",
    "\"\"\"\n",
    "print('\\ndeletion lengths')\n",
    "svlen2 = df3['end']-df3['start']\n",
    "sumstats(svlen2)\n",
    "\"\"\"\n",
    "use list comprehension to print the number of dels\n",
    ">10Mb\n",
    "\"\"\"\n",
    "\n",
    "print('\\nn del >10Mb:', len([x for x in svlen2 if x > 1e7]))\n",
    "\"\"\"\n",
    "ok that's interesting, now lets look at a histogram of the del lengths \n",
    "before we look at the gene burden\n",
    "\"\"\"\n",
    "\n",
    "sns.set_style('whitegrid') # I like this for most plots because it aids with observation\n",
    "f, ax = plt.subplots(1,1,figsize=(4,4))\n",
    "\n",
    "# make the bins = 100 because it will show you percentile distribution (1-100)\n",
    "# for example bins=5 is a quintile distribution\n",
    "\n",
    "ax.hist(np.log10(svlen2),bins=100)\n",
    "ax.set_title('Filtered DEL')\n",
    "ax.set_xlabel('log10(SV Length)') # always label your plots\n",
    "ax.set_ylabel('Frequency')\n",
    "f.tight_layout()\n",
    "f.show()\n",
    "\n",
    "\"\"\"ok now for the gene burden\"\"\"\n",
    "f, ax = plt.subplots(1,1,figsize=(4,4))\n",
    "ax.hist(gene_burden2,bins=100)\n",
    "ax.set_title('Filtered DEL Gene Burden')\n",
    "ax.set_xlabel('# Genes / Sample') # always label your plots\n",
    "ax.set_ylabel('Frequency')\n",
    "f.tight_layout()\n",
    "f.show()\n",
    "\n",
    "\"\"\"ok that's interesting you have a long right tail which means you have many samples with a lot of burden\n",
    "this is expected if you look at the summary stats, The Mean and Median values are very different. When you \n",
    "have a mean that is much greater or lesser than your median, it means your data are likely skewed to the right/left\n",
    "\n",
    "so now let's look at the individual points like I mentioned in slack\n",
    "\"\"\"\n",
    "\n",
    "f, ax = plt.subplots(1,1,figsize=(4,4))\n",
    "#sns.boxplot(y=gene_burden,ax=ax)\n",
    "# box plot didn't look so good because the data are so skewed. \n",
    "sns.stripplot(\n",
    "    y=gene_burden2,\n",
    "    ax=ax,\n",
    "    color='k', # black \n",
    "    alpha=0.2, #transparency \n",
    ")\n",
    "ax.set_title('Filtered DEL Gene Burden')\n",
    "ax.set_ylabel('# Genes / Sample') # always label your plots\n",
    "ax.set_xlabel('')\n",
    "f.tight_layout()\n",
    "f.show()\n"
   ]
  },
  {
   "cell_type": "code",
   "execution_count": 29,
   "metadata": {},
   "outputs": [
    {
     "name": "stderr",
     "output_type": "stream",
     "text": [
      "C:\\Users\\aqngu\\Anaconda3\\lib\\site-packages\\ipykernel_launcher.py:1: SettingWithCopyWarning: \n",
      "A value is trying to be set on a copy of a slice from a DataFrame.\n",
      "Try using .loc[row_indexer,col_indexer] = value instead\n",
      "\n",
      "See the caveats in the documentation: http://pandas.pydata.org/pandas-docs/stable/indexing.html#indexing-view-versus-copy\n",
      "  \"\"\"Entry point for launching an IPython kernel.\n"
     ]
    },
    {
     "name": "stdout",
     "output_type": "stream",
     "text": [
      "MIN:9.882018816935242e-51    MAX:2.2004834021937937e+36\n",
      "MEAN:1.2827601095180365e+34    MEDIAN:0.41\n",
      "IQR:0.0-6118004.07    SD:1.2973663861645533e+35\n"
     ]
    },
    {
     "name": "stderr",
     "output_type": "stream",
     "text": [
      "C:\\Users\\aqngu\\Anaconda3\\lib\\site-packages\\ipykernel_launcher.py:17: UserWarning: Matplotlib is currently using module://ipykernel.pylab.backend_inline, which is a non-GUI backend, so cannot show the figure.\n"
     ]
    },
    {
     "data": {
      "image/png": "[encoded data removed]",
      "text/plain": [
       "<Figure size 288x288 with 1 Axes>"
      ]
     },
     "metadata": {},
     "output_type": "display_data"
    }
   ],
   "source": [
    "df2['pli/pREC'] = (df2['max_pli']/df2['max_REC'])\n",
    "df2.head(50)\n",
    "gene_burden3 = df2.groupby(by=[\"iid\"])[\"pli/pREC\"].mean()\n",
    "#print('deletion gene burden')\n",
    "sumstats(gene_burden3)\n",
    "sns.set_style('whitegrid') # I like this for most plots because it aids with observation\n",
    "f, ax = plt.subplots(1,1,figsize=(4,4))\n",
    "\n",
    "# make the bins = 100 because it will show you percentile distribution (1-100)\n",
    "# for example bins=5 is a quintile distribution\n",
    "\n",
    "ax.hist(np.log10(gene_burden3),bins=100)\n",
    "ax.set_title('Filtered DEL')\n",
    "ax.set_xlabel('log10(SV Length)') # always label your plots\n",
    "ax.set_ylabel('Frequency')\n",
    "f.tight_layout()\n",
    "f.show()\n"
   ]
  },
  {
   "cell_type": "code",
   "execution_count": 59,
   "metadata": {},
   "outputs": [
    {
     "name": "stdout",
     "output_type": "stream",
     "text": [
      "before filtering:  192309\n",
      "after filtering: 103\n",
      "chrom                 int64\n",
      "start                 int64\n",
      "end                   int64\n",
      "svtype               object\n",
      "cn                    int64\n",
      "nsnp                  int64\n",
      "startsnp             object\n",
      "endsnp               object\n",
      "conf                float64\n",
      "iid                  object\n",
      "common_sv              bool\n",
      "mask_pass              bool\n",
      "pli_gene             object\n",
      "max_pli             float64\n",
      "REC_gene             object\n",
      "max_REC             float64\n",
      "n_genes               int32\n",
      "genes                object\n",
      "n_pli                 int32\n",
      "pli                  object\n",
      "n_rec                 int32\n",
      "rec                  object\n",
      "nsnp_less_than_7       bool\n",
      "dtype: object\n"
     ]
    },
    {
     "name": "stderr",
     "output_type": "stream",
     "text": [
      "C:\\Users\\aqngu\\Anaconda3\\lib\\site-packages\\ipykernel_launcher.py:18: SettingWithCopyWarning: \n",
      "A value is trying to be set on a copy of a slice from a DataFrame.\n",
      "Try using .loc[row_indexer,col_indexer] = value instead\n",
      "\n",
      "See the caveats in the documentation: http://pandas.pydata.org/pandas-docs/stable/indexing.html#indexing-view-versus-copy\n",
      "C:\\Users\\aqngu\\Anaconda3\\lib\\site-packages\\ipykernel_launcher.py:19: SettingWithCopyWarning: \n",
      "A value is trying to be set on a copy of a slice from a DataFrame.\n",
      "Try using .loc[row_indexer,col_indexer] = value instead\n",
      "\n",
      "See the caveats in the documentation: http://pandas.pydata.org/pandas-docs/stable/indexing.html#indexing-view-versus-copy\n",
      "C:\\Users\\aqngu\\Anaconda3\\lib\\site-packages\\ipykernel_launcher.py:20: SettingWithCopyWarning: \n",
      "A value is trying to be set on a copy of a slice from a DataFrame.\n",
      "Try using .loc[row_indexer,col_indexer] = value instead\n",
      "\n",
      "See the caveats in the documentation: http://pandas.pydata.org/pandas-docs/stable/indexing.html#indexing-view-versus-copy\n",
      "C:\\Users\\aqngu\\Anaconda3\\lib\\site-packages\\ipykernel_launcher.py:21: SettingWithCopyWarning: \n",
      "A value is trying to be set on a copy of a slice from a DataFrame.\n",
      "Try using .loc[row_indexer,col_indexer] = value instead\n",
      "\n",
      "See the caveats in the documentation: http://pandas.pydata.org/pandas-docs/stable/indexing.html#indexing-view-versus-copy\n",
      "C:\\Users\\aqngu\\Anaconda3\\lib\\site-packages\\ipykernel_launcher.py:22: SettingWithCopyWarning: \n",
      "A value is trying to be set on a copy of a slice from a DataFrame.\n",
      "Try using .loc[row_indexer,col_indexer] = value instead\n",
      "\n",
      "See the caveats in the documentation: http://pandas.pydata.org/pandas-docs/stable/indexing.html#indexing-view-versus-copy\n"
     ]
    }
   ],
   "source": [
    "\n",
    "\n",
    "print('before filtering: ',len(df))\n",
    "df4 = df.loc[(\n",
    "    df['nsnp_less_than_7']==False) & \n",
    "    (df['mask_pass']==True) & \n",
    "    (df['common_sv']==False) &\n",
    "    (df['conf'] > 10) &\n",
    "    (df['n_genes']!='.') &\n",
    "    (df['svtype']=='DEL') &\n",
    "    (~df['iid'].isin(fail) & # ~ is a NOT \n",
    "     (df['cn'] == 0) &\n",
    "     (df['max_REC']!='.')) \n",
    "]\n",
    "print('after filtering:',len(df4))\n",
    "\"\"\"\n",
    "cast the type back to int\n",
    "\"\"\"\n",
    "\n",
    "df4['n_genes']=df4['n_genes'].astype(int)\n",
    "df4['n_pli']=df4['n_pli'].astype(int)\n",
    "df4['n_rec']=df4['n_rec'].astype(int)\n",
    "df4['max_pli']=df4['max_pli'].astype(float)\n",
    "df4['max_REC']=df4['max_REC'].astype(float)\n",
    "print(df4.dtypes)"
   ]
  },
  {
   "cell_type": "code",
   "execution_count": 60,
   "metadata": {},
   "outputs": [
    {
     "name": "stdout",
     "output_type": "stream",
     "text": [
      "before filtering:  103\n",
      "after filtering: 38\n"
     ]
    }
   ],
   "source": [
    "print('before filtering: ',len(df4))\n",
    "df4 = df4.loc[(\n",
    "    df4['max_REC'] > .9)\n",
    "]\n",
    "print('after filtering:',len(df4))  "
   ]
  },
  {
   "cell_type": "code",
   "execution_count": null,
   "metadata": {},
   "outputs": [],
   "source": []
  },
  {
   "cell_type": "code",
   "execution_count": 64,
   "metadata": {},
   "outputs": [
    {
     "name": "stdout",
     "output_type": "stream",
     "text": [
      "deletion gene burden\n",
      "MIN:1    MAX:5\n",
      "MEAN:1.31    MEDIAN:1.0\n",
      "IQR:1.0-1.0    SD:0.84\n",
      "\n",
      "deletion lengths\n",
      "MIN:309    MAX:120932\n",
      "MEAN:7629.68    MEDIAN:495.0\n",
      "IQR:495.0-3018.75    SD:21196.14\n",
      "\n",
      "n del >10Mb: 0\n"
     ]
    },
    {
     "name": "stderr",
     "output_type": "stream",
     "text": [
      "C:\\Users\\aqngu\\Anaconda3\\lib\\site-packages\\ipykernel_launcher.py:34: UserWarning: Matplotlib is currently using module://ipykernel.pylab.backend_inline, which is a non-GUI backend, so cannot show the figure.\n",
      "C:\\Users\\aqngu\\Anaconda3\\lib\\site-packages\\ipykernel_launcher.py:43: UserWarning: Matplotlib is currently using module://ipykernel.pylab.backend_inline, which is a non-GUI backend, so cannot show the figure.\n",
      "C:\\Users\\aqngu\\Anaconda3\\lib\\site-packages\\ipykernel_launcher.py:65: UserWarning: Matplotlib is currently using module://ipykernel.pylab.backend_inline, which is a non-GUI backend, so cannot show the figure.\n"
     ]
    },
    {
     "data": {
      "image/png": "[encoded data removed]",
      "text/plain": [
       "<Figure size 288x288 with 1 Axes>"
      ]
     },
     "metadata": {},
     "output_type": "display_data"
    },
    {
     "data": {
      "image/png": "[encoded data removed]",
      "text/plain": [
       "<Figure size 288x288 with 1 Axes>"
      ]
     },
     "metadata": {},
     "output_type": "display_data"
    },
    {
     "data": {
      "image/png": "[encoded data removed]",
      "text/plain": [
       "<Figure size 288x288 with 1 Axes>"
      ]
     },
     "metadata": {},
     "output_type": "display_data"
    }
   ],
   "source": [
    "gene_burden3 = df4.groupby(by=[\"iid\"])[\"n_genes\"].sum()\n",
    "print('deletion gene burden')\n",
    "sumstats(gene_burden3)\n",
    "\"\"\"\n",
    "there is something odd with 2k+ gene burden\n",
    "let's look at the lengths of the SVs to see if there are \n",
    "any super large (>10Mb) events\n",
    "\"\"\"\n",
    "print('\\ndeletion lengths')\n",
    "svlen3 = df4['end']-df4['start']\n",
    "sumstats(svlen3)\n",
    "\"\"\"\n",
    "use list comprehension to print the number of dels\n",
    ">10Mb\n",
    "\"\"\"\n",
    "\n",
    "print('\\nn del >10Mb:', len([x for x in svlen3 if x > 1e7]))\n",
    "\"\"\"\n",
    "ok that's interesting, now lets look at a histogram of the del lengths \n",
    "before we look at the gene burden\n",
    "\"\"\"\n",
    "\n",
    "sns.set_style('whitegrid') # I like this for most plots because it aids with observation\n",
    "f, ax = plt.subplots(1,1,figsize=(4,4))\n",
    "\n",
    "# make the bins = 100 because it will show you percentile distribution (1-100)\n",
    "# for example bins=5 is a quintile distribution\n",
    "\n",
    "ax.hist(svlen3,bins=100)\n",
    "ax.set_title('Filtered DEL')\n",
    "ax.set_xlabel('SV Length') # always label your plots\n",
    "ax.set_ylabel('Frequency')\n",
    "f.tight_layout()\n",
    "f.show()\n",
    "\n",
    "\"\"\"ok now for the gene burden\"\"\"\n",
    "f, ax = plt.subplots(1,1,figsize=(4,4))\n",
    "ax.hist(gene_burden3,bins=100)\n",
    "ax.set_title('Filtered DEL Gene Burden')\n",
    "ax.set_xlabel('# Genes / Sample') # always label your plots\n",
    "ax.set_ylabel('Frequency')\n",
    "f.tight_layout()\n",
    "f.show()\n",
    "\n",
    "\"\"\"ok that's interesting you have a long right tail which means you have many samples with a lot of burden\n",
    "this is expected if you look at the summary stats, The Mean and Median values are very different. When you \n",
    "have a mean that is much greater or lesser than your median, it means your data are likely skewed to the right/left\n",
    "\n",
    "so now let's look at the individual points like I mentioned in slack\n",
    "\"\"\"\n",
    "\n",
    "f, ax = plt.subplots(1,1,figsize=(4,4))\n",
    "#sns.boxplot(y=gene_burden,ax=ax)\n",
    "# box plot didn't look so good because the data are so skewed. \n",
    "sns.stripplot(\n",
    "    y=gene_burden3,\n",
    "    ax=ax,\n",
    "    color='k', # black \n",
    "    alpha=0.2, #transparency \n",
    ")\n",
    "ax.set_title('Filtered DEL Gene Burden')\n",
    "ax.set_ylabel('# Genes / Sample') # always label your plots\n",
    "ax.set_xlabel('')\n",
    "f.tight_layout()\n",
    "f.show()"
   ]
  },
  {
   "cell_type": "code",
   "execution_count": null,
   "metadata": {},
   "outputs": [],
   "source": []
  },
  {
   "cell_type": "code",
   "execution_count": null,
   "metadata": {},
   "outputs": [],
   "source": []
  },
  {
   "cell_type": "code",
   "execution_count": 9,
   "metadata": {},
   "outputs": [],
   "source": []
  },
  {
   "cell_type": "code",
   "execution_count": 10,
   "metadata": {},
   "outputs": [],
   "source": []
  },
  {
   "cell_type": "code",
   "execution_count": null,
   "metadata": {},
   "outputs": [],
   "source": []
  },
  {
   "cell_type": "code",
   "execution_count": 12,
   "metadata": {},
   "outputs": [],
   "source": []
  },
  {
   "cell_type": "code",
   "execution_count": 14,
   "metadata": {},
   "outputs": [],
   "source": []
  },
  {
   "cell_type": "code",
   "execution_count": null,
   "metadata": {},
   "outputs": [],
   "source": []
  },
  {
   "cell_type": "code",
   "execution_count": 16,
   "metadata": {},
   "outputs": [],
   "source": []
  },
  {
   "cell_type": "code",
   "execution_count": null,
   "metadata": {},
   "outputs": [],
   "source": []
  },
  {
   "cell_type": "code",
   "execution_count": null,
   "metadata": {},
   "outputs": [],
   "source": []
  }
 ],
 "metadata": {
  "kernelspec": {
   "display_name": "Python 3",
   "language": "python",
   "name": "python3"
  },
  "language_info": {
   "codemirror_mode": {
    "name": "ipython",
    "version": 3
   },
   "file_extension": ".py",
   "mimetype": "text/x-python",
   "name": "python",
   "nbconvert_exporter": "python",
   "pygments_lexer": "ipython3",
   "version": "3.7.3"
  }
 },
 "nbformat": 4,
 "nbformat_minor": 2
}
